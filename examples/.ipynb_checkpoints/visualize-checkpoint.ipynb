{
 "cells": [
  {
   "cell_type": "code",
   "execution_count": 4,
   "metadata": {},
   "outputs": [
    {
     "data": {
      "text/html": [
       "<script>\n",
       "  function code_toggle() {\n",
       "    if (code_shown){\n",
       "      $('div.input').hide('500');\n",
       "      $('#toggleButton').val('Show Code')\n",
       "    } else {\n",
       "      $('div.input').show('500');\n",
       "      $('#toggleButton').val('Hide Code')\n",
       "    }\n",
       "    code_shown = !code_shown\n",
       "  }\n",
       "\n",
       "  $( document ).ready(function(){\n",
       "    code_shown=false;\n",
       "    $('div.input').hide()\n",
       "  });\n",
       "</script>\n",
       "<form action=\"javascript:code_toggle()\"><input type=\"submit\" id=\"toggleButton\" value=\"Show Code\"></form>\n"
      ],
      "text/plain": [
       "<IPython.core.display.HTML object>"
      ]
     },
     "metadata": {},
     "output_type": "display_data"
    }
   ],
   "source": [
    "%%HTML\n",
    "<script>\n",
    "  function code_toggle() {\n",
    "    if (code_shown){\n",
    "      $('div.input').hide('500');\n",
    "      $('#toggleButton').val('Show Code')\n",
    "    } else {\n",
    "      $('div.input').show('500');\n",
    "      $('#toggleButton').val('Hide Code')\n",
    "    }\n",
    "    code_shown = !code_shown\n",
    "  }\n",
    "\n",
    "  $( document ).ready(function(){\n",
    "    code_shown=false;\n",
    "    $('div.input').hide()\n",
    "  });\n",
    "</script>\n",
    "<form action=\"javascript:code_toggle()\"><input type=\"submit\" id=\"toggleButton\" value=\"Show Code\"></form>"
   ]
  },
  {
   "cell_type": "code",
   "execution_count": 1,
   "metadata": {},
   "outputs": [],
   "source": [
    "#Packages\n",
    "import numpy as np\n",
    "from scipy.stats import norm\n",
    "import matplotlib.pyplot as plt\n",
    "import matplotlib\n",
    "from astropy import units as u\n",
    "import astropy.constants as const\n",
    "from astropy.modeling.blackbody import blackbody_nu\n",
    "from scipy.optimize import fsolve\n",
    "\n",
    "#Plot settings\n",
    "%matplotlib inline\n",
    "matplotlib.rcParams['axes.labelsize'] = 'x-large'\n",
    "matplotlib.rcParams['xtick.labelsize'] = 'x-large'\n",
    "matplotlib.rcParams['ytick.labelsize'] = 'x-large'\n",
    "matplotlib.rcParams['legend.fontsize'] = 'xx-large'\n",
    "matplotlib.rcParams['axes.titlesize'] = 'xx-large'"
   ]
  },
  {
   "cell_type": "markdown",
   "metadata": {},
   "source": [
    "# $ \\Sigma (M)$"
   ]
  },
  {
   "cell_type": "markdown",
   "metadata": {},
   "source": [
    "This is our actual $\\Sigma$"
   ]
  },
  {
   "cell_type": "code",
   "execution_count": null,
   "metadata": {},
   "outputs": [],
   "source": [
    "#Inputs\n",
    "masses = np.logspace(11,15, num=200)\n",
    "\n",
    "#Plot\n",
    "plt.figure(figsize=(8,5));\n",
    "plt.plot(masses, cib.capitalSigma(masses), label=r'$\\Sigma(M)$');\n",
    "plt.axvline(x = 10**12.3, ls='--', color='orange', label=r'$M_{eff}$')\n",
    "\n",
    "#Plotting extras\n",
    "plt.xscale('log')\n",
    "plt.legend()\n",
    "plt.xlabel(r'Mass ($M_{\\odot}$)')\n",
    "plt.savefig('mass.png', bbox_inches='tight')"
   ]
  },
  {
   "cell_type": "markdown",
   "metadata": {},
   "source": [
    "Although slight, the Gaussian is definitely asymmetric. You can increase the spread in the definition of $\\Sigma$ to see the asymmetry more.\n",
    "\n",
    "Of course, the function is also shifted to the right (see Aside #1 for more)."
   ]
  },
  {
   "cell_type": "markdown",
   "metadata": {},
   "source": [
    "## Aside\n",
    "This section demonstrates certain principles that went into making the above plot\n",
    "\n",
    "1. The following compares a Gaussian with an x*Gaussian. Clearly, the multiplication of x shifts the mean to the right. It also scales the whole thing. Our $\\Sigma$ doesn't look like this because it's Gaussian on a log scale already."
   ]
  },
  {
   "cell_type": "code",
   "execution_count": null,
   "metadata": {},
   "outputs": [],
   "source": [
    "x = np.logspace(10,13, num=200)\n",
    "mu = 1e12\n",
    "sigma = 1e12 - 1e11\n",
    "\n",
    "y1 = norm.pdf(x,mu,sigma)\n",
    "y2 = x*norm.pdf(x,mu,sigma)\n",
    "\n",
    "fig, axes = plt.subplots(2, sharex=True, figsize=(10,8))\n",
    "axes[0].semilogx(x, y1, color='blue', label='Gaussian')\n",
    "axes[1].semilogx(x, y2, color='orange' ,label='x * Gaussian')\n",
    "\n",
    "axes[0].legend()\n",
    "axes[1].legend()\n",
    "\n",
    "print('The peak of the Gaussian is {} \\nThe peak of the x*Gaussian is {}'.format(np.argmax(y1), np.argmax(y2)))"
   ]
  },
  {
   "cell_type": "markdown",
   "metadata": {},
   "source": [
    "2. The following demonstrates the difference between a linspace and logspace on a linear and log plot scale"
   ]
  },
  {
   "cell_type": "code",
   "execution_count": null,
   "metadata": {},
   "outputs": [],
   "source": [
    "y = np.logspace(1, 4)\n",
    "x = np.linspace(1e1, 1e4)\n",
    "\n",
    "#Plotting\n",
    "fig, ax = plt.subplots(2, figsize=(10,8))\n",
    "for i in range(2):\n",
    "    ax[i].scatter(x,x, label='linear', alpha=0.7)\n",
    "    ax[i].scatter(y,y, label='log')\n",
    "    ax[i].legend()\n",
    "\n",
    "#Gravy\n",
    "plt.xscale('log')\n",
    "plt.xlim(10, 1e4)\n",
    "plt.ylim(10, 1e4);"
   ]
  },
  {
   "cell_type": "markdown",
   "metadata": {},
   "source": [
    "# L(M, z)"
   ]
  },
  {
   "cell_type": "code",
   "execution_count": null,
   "metadata": {},
   "outputs": [],
   "source": [
    "#Inputs\n",
    "redshifts = np.linspace(0.1, 5)\n",
    "masses = np.logspace(12,14, num=200)\n",
    "freq = 545.0e9 #Ghz\n",
    "\n",
    "#Calculations\n",
    "M, Z = np.meshgrid(masses, redshifts)\n",
    "L = cib.luminosity(M, Z, freq)\n",
    "\n",
    "#Plot\n",
    "plt.figure(figsize=(9,5));\n",
    "plt.contourf(M, Z, L, 10)\n",
    "plt.colorbar();\n",
    "\n",
    "#Plotting extras\n",
    "plt.xscale('log')\n",
    "plt.xlabel(r'Mass ($M_{\\odot}$)')\n",
    "plt.ylabel('Redshift')\n",
    "plt.title('Luminosity');\n",
    "plt.savefig('luminosity.png', bbox_inches='tight')"
   ]
  },
  {
   "cell_type": "markdown",
   "metadata": {},
   "source": [
    "The dimensions of the SED function are power per steradian per area, in cgs. The luminosity function then has units of $M_{\\odot}*\\text{erg}*(s*sr*cm^2)^{-1}$"
   ]
  },
  {
   "cell_type": "markdown",
   "metadata": {},
   "source": [
    "# The Full SED"
   ]
  },
  {
   "cell_type": "code",
   "execution_count": 2,
   "metadata": {},
   "outputs": [
    {
     "name": "stderr",
     "output_type": "stream",
     "text": [
      "/opt/anaconda3/lib/python3.7/site-packages/scipy/optimize/minpack.py:162: RuntimeWarning: The iteration is not making good progress, as measured by the \n",
      "  improvement from the last ten iterations.\n",
      "  warnings.warn(msg, RuntimeWarning)\n"
     ]
    },
    {
     "name": "stdout",
     "output_type": "stream",
     "text": [
      "Power: 6.658295e+09    6.658295e+09\n",
      "Freq : 1.430000e+11    3.255673e+12 \n",
      "\n",
      "\n",
      "Power: 1.833702e+10    1.833702e+10\n",
      "Freq : 2.860000e+11    4.563654e+12 \n",
      "\n",
      "\n",
      "Power: 2.919666e+09    2.919666e+09\n",
      "Freq : 4.290000e+11    9.170485e+12 \n",
      "\n",
      "\n"
     ]
    },
    {
     "data": {
      "image/png": "[encoded data removed]",
      "text/plain": [
       "<Figure size 432x288 with 1 Axes>"
      ]
     },
     "metadata": {
      "needs_background": "light"
     },
     "output_type": "display_data"
    }
   ],
   "source": [
    "def blackbody(v, T):\n",
    "    # Defining physical constants\n",
    "    c = const.c.cgs.value\n",
    "    h = const.h.cgs.value\n",
    "    k_B = const.k_B.cgs.value\n",
    "    \n",
    "    return (2.0*h/c**2) * v**3 / (np.exp((v/T) * (h/k_B)) - 1.0)\n",
    "\n",
    "def boltzmann(x, T):\n",
    "    # Defining physical constants\n",
    "    c = const.c.cgs.value\n",
    "    h = const.h.cgs.value\n",
    "    k_B = const.k_B.cgs.value\n",
    "    \n",
    "    return np.exp(h*x / (k_B*T))\n",
    "\n",
    "def deriv_cond(v, T, b, g):\n",
    "    # Defining physical constants\n",
    "    c = const.c.cgs.value\n",
    "    h = const.h.cgs.value\n",
    "    k_B = const.k_B.cgs.value\n",
    "    \n",
    "    v_star = 1.0e12\n",
    "    \n",
    "    first_term = (b+3)\n",
    "    second_term = - ((h * v)/(k_B * T)) * boltzmann(v,T) / (boltzmann(v,T) - 1)\n",
    "    third_term = g\n",
    "    \n",
    "    return first_term + second_term + third_term\n",
    "\n",
    "def sysEquations(var, *constants):\n",
    "    temps, b, g = constants  \n",
    "    vo_g = var[:temps.size]\n",
    "    A_g = var[temps.size:]\n",
    "    \n",
    "    v_star = 1.0e12\n",
    "    \n",
    "    eq1 = (vo_g)**b * blackbody(vo_g, temps) - A_g * (vo_g)**(-g)\n",
    "    eq2 = deriv_cond(vo_g, temps, b, g)\n",
    "\n",
    "    return np.concatenate((eq1, eq2))\n",
    "\n",
    "def sed(nu_obs, z, plot=False, beta=1.75, gamma=1.7, alpha=0.36):\n",
    "    #Undoing Redshift: from Observing to Original\n",
    "    nu = nu_obs * (1+z)\n",
    "    temp_obs = 24.4\n",
    "    temp_array = temp_obs * (1+z)**alpha\n",
    "    \n",
    "    #Get nu_o and proportionality constant\n",
    "    v_star = 1.0e12\n",
    "    nu_o_guess = np.ones(temp_array.shape, dtype=np.float64) * 1e12#/v_star\n",
    "    A_guess = np.ones(temp_array.shape, dtype=np.float64) * 1e24\n",
    "    sol = fsolve(sysEquations, (nu_o_guess, A_guess), args=(temp_array, beta, gamma))\n",
    "    nu_o_array = sol[:temp_array.size]\n",
    "    A_array = sol[temp_array.size:]\n",
    "    \n",
    "    #Plot the whole spectrum\n",
    "    if plot:\n",
    "        #Setup\n",
    "        nu_range = np.logspace(9, 14, 2000)\n",
    "        plt.figure()\n",
    "\n",
    "        #Spectra\n",
    "        for i, nu_o in enumerate(nu_o_array):\n",
    "            #Calculation\n",
    "            spectrum = np.where(nu_range<nu_o, (nu_range**beta)*blackbody(nu_range, temp_array[i]), A_array[i]*nu_range**(-gamma))\n",
    "            \n",
    "            #Plot curves\n",
    "            plt.plot(nu_range, spectrum, label='{} {}'.format(\"z =\", z[i]))\n",
    "            print(f'Power: {(nu_o**beta)*blackbody(nu_o, temp_array[i]):e}    {A_array[i]*nu_o**(-gamma):e}')\n",
    "            print(f'Freq : {nu[i]:e}    {nu_o:e} \\n\\n')\n",
    "            \n",
    "            #Marking v_o on the graph\n",
    "            plt.axvline(x = nu_o, ls=':', lw=0.2)\n",
    "            \n",
    "        #Plot Properties\n",
    "        plt.xscale('log')\n",
    "        plt.yscale('log')\n",
    "        plt.ylim([1e7, 1e12])\n",
    "        plt.xlim([1e10, 1e15])\n",
    "        plt.ylabel(r'$\\Theta (\\nu, z)$')\n",
    "        plt.xlabel(r'$\\nu$ (Hz)')\n",
    "        plt.legend()\n",
    "        plt.savefig('sed.png', dpi=900, bbox_inches='tight');\n",
    "            \n",
    "nu_obs = np.array([143.0e9])\n",
    "redshifts = np.array([0, 1, 2])\n",
    "sed(nu_obs, redshifts, plot=True)"
   ]
  },
  {
   "cell_type": "code",
   "execution_count": null,
   "metadata": {},
   "outputs": [],
   "source": [
    "redshifts = np.array([1.])\n",
    "sed(nu_obs, redshifts, plot=True)\n",
    "\n",
    "plt.plot(nu_range, blackbody(nu_range, temp_array[i]), ls='--', alpha=0.5, label='{} {}'.format(\"BB for z =\", z[i]))"
   ]
  },
  {
   "cell_type": "code",
   "execution_count": 28,
   "metadata": {},
   "outputs": [
    {
     "ename": "ValueError",
     "evalue": "The truth value of an array with more than one element is ambiguous. Use a.any() or a.all()",
     "output_type": "error",
     "traceback": [
      "\u001b[0;31m---------------------------------------------------------------------------\u001b[0m",
      "\u001b[0;31mValueError\u001b[0m                                Traceback (most recent call last)",
      "\u001b[0;32m<ipython-input-28-6f31cc4f739a>\u001b[0m in \u001b[0;36m<module>\u001b[0;34m\u001b[0m\n\u001b[1;32m      2\u001b[0m \u001b[0mvo\u001b[0m \u001b[0;34m=\u001b[0m \u001b[0mnp\u001b[0m\u001b[0;34m.\u001b[0m\u001b[0marray\u001b[0m\u001b[0;34m(\u001b[0m\u001b[0;34m[\u001b[0m\u001b[0;36m5\u001b[0m\u001b[0;34m,\u001b[0m\u001b[0;36m6\u001b[0m\u001b[0;34m,\u001b[0m\u001b[0;36m4\u001b[0m\u001b[0;34m,\u001b[0m\u001b[0;36m7\u001b[0m\u001b[0;34m]\u001b[0m\u001b[0;34m)\u001b[0m\u001b[0;34m\u001b[0m\u001b[0;34m\u001b[0m\u001b[0m\n\u001b[1;32m      3\u001b[0m \u001b[0;34m\u001b[0m\u001b[0m\n\u001b[0;32m----> 4\u001b[0;31m \u001b[0;32mif\u001b[0m \u001b[0mnuobs\u001b[0m\u001b[0;34m>\u001b[0m\u001b[0mvo\u001b[0m\u001b[0;34m:\u001b[0m\u001b[0;34m\u001b[0m\u001b[0;34m\u001b[0m\u001b[0m\n\u001b[0m\u001b[1;32m      5\u001b[0m     \u001b[0mprint\u001b[0m\u001b[0;34m(\u001b[0m\u001b[0;34m'lower spectrum'\u001b[0m\u001b[0;34m)\u001b[0m\u001b[0;34m\u001b[0m\u001b[0;34m\u001b[0m\u001b[0m\n\u001b[1;32m      6\u001b[0m \u001b[0;32melse\u001b[0m\u001b[0;34m:\u001b[0m\u001b[0;34m\u001b[0m\u001b[0;34m\u001b[0m\u001b[0m\n",
      "\u001b[0;31mValueError\u001b[0m: The truth value of an array with more than one element is ambiguous. Use a.any() or a.all()"
     ]
    }
   ],
   "source": [
    "nuobs = 4\n",
    "vo = np.array([5,6,4,7])\n",
    "\n",
    "if nuobs>vo:\n",
    "    print('lower spectrum')\n",
    "else:\n",
    "    print('upper spectrum')"
   ]
  },
  {
   "cell_type": "code",
   "execution_count": null,
   "metadata": {},
   "outputs": [],
   "source": []
  }
 ],
 "metadata": {
  "kernelspec": {
   "display_name": "Python 3",
   "language": "python",
   "name": "python3"
  },
  "language_info": {
   "codemirror_mode": {
    "name": "ipython",
    "version": 3
   },
   "file_extension": ".py",
   "mimetype": "text/x-python",
   "name": "python",
   "nbconvert_exporter": "python",
   "pygments_lexer": "ipython3",
   "version": "3.7.6"
  }
 },
 "nbformat": 4,
 "nbformat_minor": 4
}
