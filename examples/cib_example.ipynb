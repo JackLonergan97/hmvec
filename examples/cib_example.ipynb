{
 "cells": [
  {
   "cell_type": "code",
   "execution_count": null,
   "metadata": {},
   "outputs": [],
   "source": [
    "import numpy as np\n",
    "import hmvec as hm\n",
    "import matplotlib\n",
    "import matplotlib.pyplot as plt"
   ]
  },
  {
   "cell_type": "code",
   "execution_count": null,
   "metadata": {},
   "outputs": [],
   "source": [
    "#Plot settings\n",
    "%matplotlib inline\n",
    "matplotlib.rcParams['axes.labelsize'] = 'xx-large'\n",
    "matplotlib.rcParams['xtick.labelsize'] = 'x-large'\n",
    "matplotlib.rcParams['ytick.labelsize'] = 'x-large'\n",
    "matplotlib.rcParams['legend.fontsize'] = 'x-large'\n",
    "matplotlib.rcParams['axes.titlesize'] = 'xx-large'"
   ]
  },
  {
   "cell_type": "markdown",
   "metadata": {},
   "source": [
    "# Model"
   ]
  },
  {
   "cell_type": "code",
   "execution_count": null,
   "metadata": {},
   "outputs": [],
   "source": [
    "#Grid for Integration\n",
    "Nz = 500                                 # num of redshifts\n",
    "Nm = 100                                 # num of masses\n",
    "Nk = 10001                                # num of wavenumbers\n",
    "redshifts = np.linspace(0.01, 7, Nz)             # redshifts\n",
    "masses = np.geomspace(1e11, 1e15, Nm)           # masses\n",
    "ks = np.geomspace(1e-3, 100, Nk)               # wavenumbers\n",
    "freq_list = [271.0]\n",
    "\n",
    "#Initialize Halo Model\n",
    "hcos = hm.HaloModel(redshifts, ks, ms=masses)"
   ]
  },
  {
   "cell_type": "markdown",
   "metadata": {},
   "source": [
    "# CIB x CIB"
   ]
  },
  {
   "cell_type": "markdown",
   "metadata": {},
   "source": [
    "### 3D Power Spectrum"
   ]
  },
  {
   "cell_type": "markdown",
   "metadata": {},
   "source": [
    "First, let's get our 3D power spectrum."
   ]
  },
  {
   "cell_type": "code",
   "execution_count": null,
   "metadata": {},
   "outputs": [],
   "source": [
    "#Get Power Spectra\n",
    "for freq in freq_list:\n",
    "    Pjj_2h = hcos.get_power_2halo(\"cib\", \"cib\", nu_obs=freq)  # P(z,k)"
   ]
  },
  {
   "cell_type": "markdown",
   "metadata": {},
   "source": [
    "Now let's plot it. We expect it to peak at around k = 0.02"
   ]
  },
  {
   "cell_type": "code",
   "execution_count": null,
   "metadata": {},
   "outputs": [],
   "source": [
    "#Which zs to look at\n",
    "test_zs = np.array([0.1, 0.5, 1, 1.5, 2, 3, 5, 6, 7])\n",
    "\n",
    "#Plot Power Spectra\n",
    "plt.figure(figsize=(15,8))\n",
    "for z in test_zs:\n",
    "    #Get index\n",
    "    zi = np.where(abs(z - redshifts) <= 0.05)[0][0]\n",
    "    \n",
    "    #Spectra\n",
    "    plt.loglog(ks, Pjj_2h[zi,:], label=f\"z = {redshifts[zi]:0.2f}\")\n",
    "\n",
    "#Plot Peak\n",
    "kpeak = ks[np.argmax(Pjj_2h[0,:])]\n",
    "plt.axvline(x = kpeak, ls='--', color='orange', label=f'Peak at k = {kpeak:0.3f}')\n",
    "\n",
    "#Gravy\n",
    "plt.legend()\n",
    "plt.ylabel(r\"$P_{jj, 2halo}$\")\n",
    "plt.xlabel('k')\n",
    "plt.savefig('Pjj.png', dpi=500, bbox_inches='tight');"
   ]
  },
  {
   "cell_type": "markdown",
   "metadata": {},
   "source": [
    "### 2D Power Spectrum"
   ]
  },
  {
   "cell_type": "markdown",
   "metadata": {},
   "source": [
    "Now let's integrate along the redshift to get the 2D power spectrum."
   ]
  },
  {
   "cell_type": "code",
   "execution_count": null,
   "metadata": {},
   "outputs": [],
   "source": [
    "#Limber Integrals\n",
    "Nl = 1000\n",
    "ells = np.linspace(5, 1000, Nl)\n",
    "Cii, Cii_integrand = hcos.C_ii(ells, redshifts, ks, Pjj_2h, dcdzflag=True)\n",
    "\n",
    "#Plot Cii\n",
    "plt.loglog(ells, Cii)\n",
    "plt.xlabel(r'$\\ell$')\n",
    "plt.ylabel(rf'$C^{{ {freq_list[0]:0.0f} \\;x\\; {freq_list[0]:0.0f} }}_\\ell$');"
   ]
  },
  {
   "cell_type": "markdown",
   "metadata": {},
   "source": [
    "## $\\frac{dC_{II}}{dz} (z, \\ell)$"
   ]
  },
  {
   "cell_type": "markdown",
   "metadata": {},
   "source": [
    "There are still some wiggles at around $\\ell \\sim 2\\times10^2 - 6 \\times 10^2$, which should be smoothed out, so let's plot the integrand of the limber integral to see what's up."
   ]
  },
  {
   "cell_type": "code",
   "execution_count": null,
   "metadata": {},
   "outputs": [],
   "source": [
    "#Which ells to look at\n",
    "test_ells = np.array([2.0e2, 3.0e2, 4.0e2, 5.0e2, 6.0e2])\n",
    "\n",
    "#Plot\n",
    "plt.figure(figsize=(10,7))\n",
    "for ell in test_ells:\n",
    "    #Get index\n",
    "    i = np.where(abs(ell - ells) <= 1)[0][0]\n",
    "\n",
    "    #Spectra\n",
    "    plt.semilogy(redshifts, Cii_integrand[:, i], label=rf\"$\\ell = {ells[i]:0.0f}$\")\n",
    "\n",
    "    #Gravy\n",
    "    plt.xlabel(r'$z$')\n",
    "    plt.title(r'$\\frac{dC_{II}}{dz}$', fontsize=24)\n",
    "    plt.legend()\n",
    "plt.savefig('dCdz_ii_l.png', dpi=500, bbox_inches='tight');"
   ]
  },
  {
   "cell_type": "markdown",
   "metadata": {},
   "source": [
    "# Lensing x Lensing"
   ]
  },
  {
   "cell_type": "markdown",
   "metadata": {},
   "source": [
    "## $\\frac{dC_{\\kappa \\kappa}}{dz} (z, \\ell)$"
   ]
  },
  {
   "cell_type": "markdown",
   "metadata": {},
   "source": [
    "First, let's add to the model."
   ]
  },
  {
   "cell_type": "code",
   "execution_count": null,
   "metadata": {},
   "outputs": [],
   "source": [
    "#Add to the model\n",
    "zsource = 1.0 # delta-function source population\n",
    "ngal = 1e-4 # number density of lenses per mpc3 (to solve for stellar mass threshold in HOD)\n",
    "hcos.add_hod(\"g\",ngal=ngal+redshifts*0.,corr=\"max\")\n",
    "hcos.add_battaglia_profile(\"electron\",family=\"AGN\",xmax=50,nxs=30000)"
   ]
  },
  {
   "cell_type": "markdown",
   "metadata": {},
   "source": [
    "Now we can actually calculate all of the power spectra."
   ]
  },
  {
   "cell_type": "code",
   "execution_count": null,
   "metadata": {},
   "outputs": [],
   "source": [
    "#Power Spectra\n",
    "Pnn = hcos.get_power(\"nfw\",verbose=False)\n",
    "Pne = hcos.get_power(\"nfw\",\"electron\",verbose=False )\n",
    "Pee = hcos.get_power(\"electron\",\"electron\",verbose=False )\n",
    "Pmm = hcos.total_matter_power_spectrum(Pnn,Pne,Pee)\n",
    "\n",
    "#Limber Integrals\n",
    "Ckk0, Ckk0_integrand = hcos.C_kk(ells,redshifts,ks,Pnn,lzs1=zsource,lzs2=zsource, dcdzflag=True)\n",
    "Ckk, Ckk_integrand = hcos.C_kk(ells,redshifts,ks,Pmm,lzs1=zsource,lzs2=zsource, dcdzflag=True)"
   ]
  },
  {
   "cell_type": "markdown",
   "metadata": {},
   "source": [
    "And finally, plot the integrand of the limber integral.\n",
    "\n",
    "The first is $C/C_0$."
   ]
  },
  {
   "cell_type": "code",
   "execution_count": null,
   "metadata": {},
   "outputs": [],
   "source": [
    "plt.figure(figsize=(10,7))\n",
    "\n",
    "for ell in test_ells:\n",
    "    #Get index\n",
    "    i = np.where(abs(ell - ells) <= 1)[0][0]\n",
    "\n",
    "    #Plot\n",
    "    plt.semilogy(redshifts, Ckk_integrand[:, i]/Ckk0_integrand[:, i], label=rf\"$\\ell = {ells[i]:0.0f}$\")\n",
    "\n",
    "    #Gravy\n",
    "    plt.xlabel(r'$z$')\n",
    "    plt.title(r'$\\frac{dC^{\\kappa \\kappa}}{dC^{\\kappa \\kappa}_0}$', fontsize=24)\n",
    "    plt.legend()\n",
    "\n",
    "plt.savefig('dCdz_kk_0.png', dpi=500, bbox_inches='tight');"
   ]
  },
  {
   "cell_type": "code",
   "execution_count": null,
   "metadata": {},
   "outputs": [],
   "source": [
    "#Plot\n",
    "plt.figure(figsize=(10,7))\n",
    "\n",
    "for ell in test_ells:\n",
    "    #Get index\n",
    "    i = np.where(abs(ell - ells) <= 1)[0][0]\n",
    "\n",
    "    #Plot\n",
    "    plt.semilogy(redshifts, Ckk_integrand[:, i], label=rf\"$\\ell = {ells[i]:0.0f}$\")\n",
    "\n",
    "    #Gravy\n",
    "    plt.xlabel(r'$z$')\n",
    "    plt.title(r'$\\frac{dC^{\\kappa \\kappa}}{dz}$', fontsize=24)\n",
    "    plt.legend()\n",
    "    \n",
    "plt.savefig('dCdz_kk.png', dpi=500, bbox_inches='tight');"
   ]
  },
  {
   "cell_type": "markdown",
   "metadata": {},
   "source": [
    "### 2D Power Spectrum"
   ]
  },
  {
   "cell_type": "markdown",
   "metadata": {},
   "source": [
    "Let's now manually integrate the integrand w.r.t. redshift to see if we get back our 2D power spectrum."
   ]
  },
  {
   "cell_type": "code",
   "execution_count": null,
   "metadata": {},
   "outputs": [],
   "source": [
    "#Integrate\n",
    "Ckk_man = np.trapz(Ckk_integrand, redshifts, axis=0)\n",
    "Ckk0_man = np.trapz(Ckk0_integrand, redshifts, axis=0)\n",
    "\n",
    "#Plot\n",
    "plt.figure(figsize = (7,5))\n",
    "plt.plot(ells, Ckk_man/Ckk0_man, color='red', label='Manually integrated')\n",
    "plt.plot(ells, Ckk/Ckk0, ls='--', label='From hmvec')\n",
    "plt.ylabel(r\"$C^{kk}/C^{kk}_{0}$\")\n",
    "plt.xlabel(r\"$\\ell$\")\n",
    "plt.legend()\n",
    "\n",
    "plt.savefig('Ckk_compare.png', dpi=500, bbox_inches='tight');"
   ]
  },
  {
   "cell_type": "markdown",
   "metadata": {},
   "source": [
    "We see that we are indeed looking at the correct integrand."
   ]
  },
  {
   "cell_type": "code",
   "execution_count": null,
   "metadata": {},
   "outputs": [],
   "source": []
  }
 ],
 "metadata": {
  "kernelspec": {
   "display_name": "Python 3",
   "language": "python",
   "name": "python3"
  },
  "language_info": {
   "codemirror_mode": {
    "name": "ipython",
    "version": 3
   },
   "file_extension": ".py",
   "mimetype": "text/x-python",
   "name": "python",
   "nbconvert_exporter": "python",
   "pygments_lexer": "ipython3",
   "version": "3.7.6"
  }
 },
 "nbformat": 4,
 "nbformat_minor": 2
}
