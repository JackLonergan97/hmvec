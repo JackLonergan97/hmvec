{
 "cells": [
  {
   "cell_type": "code",
   "execution_count": 1,
   "metadata": {},
   "outputs": [],
   "source": [
    "import numpy as np\n",
    "from matplotlib import pyplot as plt\n",
    "import sympy as sym\n",
    "import astropy.constants as const\n",
    "from astropy import units as u\n",
    "from astropy.modeling.blackbody import blackbody_nu\n",
    "from scipy.optimize import fsolve\n",
    "import pdb\n",
    "%matplotlib inline"
   ]
  },
  {
   "cell_type": "markdown",
   "metadata": {},
   "source": [
    "# The Code"
   ]
  },
  {
   "cell_type": "code",
   "execution_count": null,
   "metadata": {},
   "outputs": [],
   "source": [
    "def blackbody(v, T):\n",
    "    # Defining physical constants\n",
    "    c = const.c.cgs.value\n",
    "    h = const.h.cgs.value\n",
    "    k_B = const.k_B.cgs.value\n",
    "    \n",
    "    return (2.0*h/c**2) * v**3 / (np.exp((v/T) * (h/k_B)) - 1.0)\n",
    "\n",
    "def boltzmann(x, T):\n",
    "    # Defining physical constants\n",
    "    c = const.c.cgs.value\n",
    "    h = const.h.cgs.value\n",
    "    k_B = const.k_B.cgs.value\n",
    "    \n",
    "    return np.exp(h*x / (k_B*T))\n",
    "\n",
    "def deriv_cond(v, T, b, g):\n",
    "    # Defining physical constants\n",
    "    c = const.c.cgs.value\n",
    "    h = const.h.cgs.value\n",
    "    k_B = const.k_B.cgs.value\n",
    "    \n",
    "    v_star = 1.0e12\n",
    "    \n",
    "    first_term = (b+3) * v**(b+2) / (boltzmann(v,T) - 1)\n",
    "    second_term = - (h/(k_B*T)) * boltzmann(v,T) * v**(b+3) / (boltzmann(v,T) - 1)**2\n",
    "    third_term = -g\n",
    "    \n",
    "    return ((v)**(1-b)/blackbody(v,T)) * (2.0*h/c**2) * (first_term + second_term) + third_term\n",
    "\n",
    "def sysEquations(var, *constants):\n",
    "    temps, b, g = constants  \n",
    "    vo_g = var[:temps.size]\n",
    "    A_g = var[temps.size:]\n",
    "    \n",
    "    v_star = 1.0e12\n",
    "    \n",
    "    eq1 = (vo_g)**b * blackbody(vo_g, temps) - A_g * (vo_g)**(-g)\n",
    "    eq2 = deriv_cond(vo_g, temps, b, g)\n",
    "    \n",
    "    return np.concatenate((eq1, eq2))\n",
    "\n",
    "def sed(nu_obs, z, plot=False, beta=1.75, gamma=1.7, alpha=0.36):\n",
    "    #Undoing Redshift: from Observing to Original\n",
    "    nu = nu_obs * (1+z)\n",
    "    temp_obs = 24.4\n",
    "    temp_array = temp_obs * (1+z)**alpha\n",
    "    \n",
    "    #Get nu_o and proportionality constant\n",
    "    v_star = 1.0e12\n",
    "    nu_o_guess = np.ones(temp_array.shape, dtype=np.float64) * 7e12#/v_star\n",
    "    A_guess = np.ones(temp_array.shape, dtype=np.float64) * 1e24\n",
    "    #pdb.set_trace()\n",
    "    sol = fsolve(sysEquations, np.concatenate((nu_o_guess, A_guess)), args=(temp_array, beta, gamma))\n",
    "    nu_o_array = sol[:temp_array.size]\n",
    "    A_array = sol[temp_array.size:]\n",
    "    \n",
    "    #Plot the whole spectrum\n",
    "    print(nu_o_array)\n",
    "    print(A_array)\n",
    "    if plot:\n",
    "        nu_range = np.logspace(9, 14, 2000)\n",
    "        for i, nu_o in enumerate(nu_o_array):\n",
    "            #Calculation\n",
    "            spectrum = np.where(nu_range<nu_o, (nu_range**beta)*blackbody(nu_range, temp_array[i]), A_array[i]*nu_range**(-gamma))\n",
    "            \n",
    "            #Plot\n",
    "            #plt.figure()\n",
    "            plt.plot(nu_range, spectrum, label='{} {}'.format(\"exp\", i))\n",
    "            plt.plot(nu_range, blackbody_nu(nu_range, temp_array[i]), label='{} {}'.format(\"label\", i))\n",
    "            result = np.where(nu_range - nu_o < 1e10)[0]\n",
    "            pdb.set_trace()\n",
    "            \n",
    "            #plt.Circle((nu_o, spectrum))\n",
    "            \n",
    "            plt.xscale('log')\n",
    "            plt.yscale('log')\n",
    "            #plt.ylim([1e-30, 1e12])\n",
    "            plt.legend()\n",
    "            \n",
    "nu_obs = np.array([353.0e9])\n",
    "redshifts = np.array([0, 1])\n",
    "sed(nu_obs, redshifts, plot=True)"
   ]
  },
  {
   "cell_type": "markdown",
   "metadata": {},
   "source": [
    "# Testing Guesses"
   ]
  },
  {
   "cell_type": "code",
   "execution_count": 85,
   "metadata": {
    "scrolled": false
   },
   "outputs": [
    {
     "data": {
      "image/png": "[encoded data removed]",
      "text/plain": [
       "<Figure size 432x288 with 1 Axes>"
      ]
     },
     "metadata": {
      "needs_background": "light"
     },
     "output_type": "display_data"
    }
   ],
   "source": [
    "def sed(beta=1.75, gamma=1.7, alpha=0.36):\n",
    "\n",
    "    # Defining physical constants\n",
    "    c = const.c.cgs.value\n",
    "    h = const.h.cgs.value\n",
    "    k_B = const.k_B.cgs.value\n",
    "    \n",
    "    # Undoing Redshift: from Observing to Original\n",
    "    nu_o = nu_obs * (1+z)\n",
    "    temp_obs = 24.4\n",
    "    temp_o = temp_obs * (1+z)**alpha\n",
    "    \n",
    "    #get temperature in nu_o for the sympy\n",
    "    \n",
    "    #Find the nu_o\n",
    "    sym.var('v T A', real=True)\n",
    "    blackbody = (2*const.h.cgs.value/const.c.cgs.value**2) * v**3 / (sym.exp((v/T) * (const.h.cgs.value/const.k_B.cgs.value)) - 1)\n",
    "    eq1 = v**beta * blackbody - A*v**(-gamma)\n",
    "    n = 1\n",
    "    eq2 = (sym.diff(eq1, v)).subs(v, n)\n",
    "    \n",
    "    \n",
    "    return eq1, eq2\n",
    "\n",
    "nu = np.logspace(11, 13, 2000)\n",
    "# bb = (2*const.h.cgs.value/const.c.cgs.value**2) * (nu)**3 / (np.exp((nu/T) * (const.h.cgs.value/const.k_B.cgs.value)) - 1)\n",
    "# plt.plot(nu, bb, label='mine')\n",
    "plt.plot(nu, blackbody_nu(nu, 25), 'w--', zorder=2,label='T = 25')\n",
    "plt.plot(nu, blackbody(nu, 25), 'k', zorder=1, label='T = 25')\n",
    "#plt.plot(nu, blackbody_nu(nu, 300), label='300')\n",
    "#plt.plot(nu, blackbody_nu(nu, 500), label='500')\n",
    "plt.plot(nu[1500:], 5e25 *nu[1500:]**-3, label=r'$\\nu^{-\\gamma}$')\n",
    "\n",
    "plt.xscale('log')\n",
    "plt.legend(loc='upper left');\n"
   ]
  },
  {
   "cell_type": "markdown",
   "metadata": {},
   "source": [
    "# Troubleshooting"
   ]
  },
  {
   "cell_type": "code",
   "execution_count": 51,
   "metadata": {},
   "outputs": [
    {
     "name": "stdout",
     "output_type": "stream",
     "text": [
      "16617848685450.912 1.7625055981387392e+24\n",
      "(3.90087961932295e-12, -9.925175377942685e-11)\n"
     ]
    }
   ],
   "source": [
    "def blackbody(v, T):\n",
    "    # Defining physical constants\n",
    "    c = const.c.cgs.value\n",
    "    h = const.h.cgs.value\n",
    "    k_B = const.k_B.cgs.value\n",
    "    \n",
    "    return (2.0*h/c**2) * v**3 / (np.exp((v/T) * (h/k_B)) - 1.0)\n",
    "\n",
    "def deriv_cond(v, A, T, b, g):\n",
    "    # Defining physical constants\n",
    "    c = const.c.cgs.value\n",
    "    h = const.h.cgs.value\n",
    "    k_B = const.k_B.cgs.value\n",
    "    \n",
    "    first_term = ((3.0+b) * v**(2.0+b)) / (np.exp(h*v/(k_B*T)) - 1.0)\n",
    "    second_term = (v**(3.0+b) * (h/(k_B*T)) * np.exp(h*v/(k_B*T)))  /  (np.exp(h*v/(k_B*T)) - 1.0)**2 \n",
    "    third_term = A * g * v**(-g - 1.0)\n",
    "    \n",
    "    return (2.0*h/c**2) * (first_term - second_term + third_term)\n",
    "\n",
    "def sysEquations(var, *constants):\n",
    "    temps, b, g = constants  \n",
    "    vo_g, A_g = var\n",
    "    \n",
    "    eq1 = vo_g**b * blackbody(vo_g, temps) - A_g * vo_g**(-g)\n",
    "    eq2 = deriv_cond(vo_g, A_g, temps, b, g)\n",
    "    \n",
    "    return (eq1, eq2)\n",
    "\n",
    "def sed(nu_obs, z, plot=False, beta=1.75, gamma=1.7, alpha=0.36):\n",
    "    #Undoing Redshift: from Observing to Original\n",
    "    nu = nu_obs * (1+z)\n",
    "    temp_obs = 24.4\n",
    "    temp_array = temp_obs * (1+z)**alpha\n",
    "    \n",
    "    #Get nu_o and proportionality constant\n",
    "    #nu_o_guess = np.ones(temp_array.shape, dtype=np.float64) * 2e12\n",
    "    #A_guess = np.ones(temp_array.shape, dtype=np.float64) * 1e20\n",
    "    #pdb.set_trace()\n",
    "    sol = fsolve(sysEquations, (7e12, 1e24), args=(temp_array, beta, gamma))\n",
    "    \n",
    "    return sol\n",
    "    \n",
    "v, A = sed(1e9, 0.0)\n",
    "print(v, A)\n",
    "print(sysEquations( (v,A), 24.4, beta, gamma) )"
   ]
  },
  {
   "cell_type": "code",
   "execution_count": null,
   "metadata": {},
   "outputs": [],
   "source": [
    "from scipy.optimize import fsolve\n",
    "def equations(z):\n",
    "    v, t = z\n",
    "    \n",
    "    return (v+t**2-4, sym.exp(v) + v*t - 3)\n",
    "\n",
    "sol = fsolve(equations, (1,1))\n",
    "print(sol)\n",
    "print(equations(sol))"
   ]
  },
  {
   "cell_type": "code",
   "execution_count": 23,
   "metadata": {},
   "outputs": [
    {
     "data": {
      "text/plain": [
       "array([ 0,  1,  2,  3,  4, 25, 30, 35, 40, 45])"
      ]
     },
     "execution_count": 23,
     "metadata": {},
     "output_type": "execute_result"
    }
   ],
   "source": [
    "x = np.arange(10)\n",
    "np.where(x>4, x*5, x)"
   ]
  },
  {
   "cell_type": "code",
   "execution_count": null,
   "metadata": {},
   "outputs": [],
   "source": []
  }
 ],
 "metadata": {
  "kernelspec": {
   "display_name": "Python 3",
   "language": "python",
   "name": "python3"
  },
  "language_info": {
   "codemirror_mode": {
    "name": "ipython",
    "version": 3
   },
   "file_extension": ".py",
   "mimetype": "text/x-python",
   "name": "python",
   "nbconvert_exporter": "python",
   "pygments_lexer": "ipython3",
   "version": "3.7.4"
  }
 },
 "nbformat": 4,
 "nbformat_minor": 2
}
