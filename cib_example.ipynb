{
 "cells": [
  {
   "cell_type": "code",
   "execution_count": 1,
   "metadata": {},
   "outputs": [],
   "source": [
    "import numpy as np\n",
    "import hmvec as hm\n",
    "import matplotlib.pyplot as plt\n",
    "import matplotlib"
   ]
  },
  {
   "cell_type": "code",
   "execution_count": 2,
   "metadata": {},
   "outputs": [],
   "source": [
    "from IPython.display import set_matplotlib_formats\n",
    "set_matplotlib_formats('svg')"
   ]
  },
  {
   "cell_type": "code",
   "execution_count": null,
   "metadata": {},
   "outputs": [],
   "source": [
    "from cobaya.run import run\n",
    "from cobaya.theory import Theory\n",
    "from cobaya.likelihood import Likelihood"
   ]
  },
  {
   "cell_type": "code",
   "execution_count": 3,
   "metadata": {},
   "outputs": [],
   "source": [
    "#Plot settings\n",
    "%matplotlib inline\n",
    "matplotlib.rcParams['axes.labelsize'] = 'x-large'\n",
    "matplotlib.rcParams['xtick.labelsize'] = 'x-large'\n",
    "matplotlib.rcParams['ytick.labelsize'] = 'x-large'\n",
    "matplotlib.rcParams['legend.fontsize'] = 'x-large'\n",
    "matplotlib.rcParams['axes.titlesize'] = 'xx-large'\n",
    "matplotlib.rcParams['figure.titlesize'] = 'xx-large'"
   ]
  },
  {
   "cell_type": "markdown",
   "metadata": {},
   "source": [
    "## Setting Up"
   ]
  },
  {
   "cell_type": "markdown",
   "metadata": {},
   "source": [
    "First, we setup our grid and initialize our halo model. Since this on a shared node on Cori, the (z,m,k) grid we set up is fairly coarse."
   ]
  },
  {
   "cell_type": "code",
   "execution_count": null,
   "metadata": {},
   "outputs": [],
   "source": [
    "#Setup Grid\n",
    "Nz = 100                                 # num of redshifts\n",
    "Nm = 100                                 # num of masses\n",
    "Nk = 1000                                # num of wavenumbers\n",
    "redshifts = np.linspace(0.01, 6, Nz)             \n",
    "masses = np.geomspace(1.0e6, 1.0e15, Nm)          \n",
    "ks = np.geomspace(1.0e-3, 100.0, Nk)              # wavenumbers\n",
    "ells = np.linspace(10, 3000, 200)"
   ]
  },
  {
   "cell_type": "code",
   "execution_count": null,
   "metadata": {},
   "outputs": [],
   "source": [
    "#Initialize Halo Model \n",
    "hcos = hm.HaloModel(redshifts, ks, ms=masses, mass_function='tinker')"
   ]
  },
  {
   "cell_type": "code",
   "execution_count": null,
   "metadata": {},
   "outputs": [],
   "source": [
    "#params={'As':2.4667392631170437e-09,'ns':.96,'omch2':(0.25-.043)*.7**2,'ombh2':0.044*.7**2,'H0':70.},mdef='mean'"
   ]
  },
  {
   "cell_type": "markdown",
   "metadata": {},
   "source": [
    "Next, set up the parameters for the CIB model we want. We'll be using Planck 2013 values. We can also give different parameter values (e.g. a dictionary of new values for some/all of the parameters); see 'set_cibParams' documentation for details."
   ]
  },
  {
   "cell_type": "code",
   "execution_count": null,
   "metadata": {},
   "outputs": [],
   "source": [
    "#Set CIB Parameters\n",
    "hcos.set_cibParams('planck13')"
   ]
  },
  {
   "cell_type": "markdown",
   "metadata": {},
   "source": [
    "## Frequencies"
   ]
  },
  {
   "cell_type": "markdown",
   "metadata": {},
   "source": [
    "We need to create a 2x2 array of frequencies. The first axis contains the frequencies to be auto/cross-correlated. The second axis contains the endpoints of a range of frequencies (as in a bandpass).\n",
    "\n",
    "If you can provide a 1D array containing a single frequency/bandpass, it will assume you want an autocorrelation."
   ]
  },
  {
   "cell_type": "code",
   "execution_count": null,
   "metadata": {},
   "outputs": [],
   "source": [
    "#Autocorrelation: 1 Freq\n",
    "autofreq = np.array([545e9], dtype=np.double)          \n",
    "\n",
    "#Autocorrelation: Bandpass\n",
    "autoband = np.array([540e9, 550e9], dtype=np.double)          \n",
    "\n",
    "#Cross-Correlation: 1 Freq\n",
    "crossfreq = np.array([[545e9],[353e9]], dtype=np.double)  \n",
    "\n",
    "#Cross-Correlation: Bandpass\n",
    "crossband = np.array([[540e9, 550e9],[347e9, 359e9]], dtype=np.double)   "
   ]
  },
  {
   "cell_type": "markdown",
   "metadata": {},
   "source": [
    "Let's just stick with a single frequency autocorrelation for now."
   ]
  },
  {
   "cell_type": "markdown",
   "metadata": {},
   "source": [
    "## Calculations"
   ]
  },
  {
   "cell_type": "markdown",
   "metadata": {},
   "source": [
    "Let's do all of the calculations with both the Tinker and Jiang subhalo mass functions. The default in this notebook will be the Jiang (note that this is not the default value for the power functions, which choose Tinker by default)."
   ]
  },
  {
   "cell_type": "code",
   "execution_count": null,
   "metadata": {},
   "outputs": [],
   "source": [
    "#Get 3D Power Spectra P(z,k): Tinker\n",
    "Pjj_tot_tink = hcos.get_power(\"cib\", \"cib\", nu_obs=autofreq, satmf = 'tinker')  \n",
    "Pjj_1h_tink = hcos.get_power_1halo(\"cib\", \"cib\", nu_obs=autofreq, satmf = 'tinker')  \n",
    "Pjj_2h_tink = hcos.get_power_2halo(\"cib\", \"cib\", nu_obs=autofreq, satmf = 'tinker')  \n",
    "Pjj_cen = hcos.get_power(\"cib\", \"cib\", nu_obs=autofreq, subhalos=False)  # no satellites"
   ]
  },
  {
   "cell_type": "code",
   "execution_count": null,
   "metadata": {},
   "outputs": [],
   "source": [
    "#Limber Integrals: Tinker\n",
    "C_tot_tink, dcdz_tot_tink = hcos.C_ii(ells, redshifts, ks, Pjj_tot_tink, dcdzflag=True)\n",
    "C_1h_tink, dcdz_1h_tink = hcos.C_ii(ells, redshifts, ks, Pjj_1h_tink, dcdzflag=True)\n",
    "C_2h_tink, dcdz_2h_tink = hcos.C_ii(ells, redshifts, ks, Pjj_2h_tink, dcdzflag=True)\n",
    "C_cen, dcdz_cen = hcos.C_ii(ells, redshifts, ks, Pjj_cen, dcdzflag=True)"
   ]
  },
  {
   "cell_type": "code",
   "execution_count": null,
   "metadata": {},
   "outputs": [],
   "source": [
    "#Get 3D Power Spectra P(z,k): Jiang\n",
    "Pjj_tot = hcos.get_power(\"cib\", \"cib\", nu_obs=autofreq, satmf = 'jiang')  \n",
    "Pjj_1h = hcos.get_power_1halo(\"cib\", \"cib\", nu_obs=autofreq, satmf = 'jiang')  \n",
    "Pjj_2h = hcos.get_power_2halo(\"cib\", \"cib\", nu_obs=autofreq, satmf = 'jiang')  \n",
    "Pjj_cen = hcos.get_power(\"cib\", \"cib\", nu_obs=autofreq, subhalos=False, satmf = 'jiang')  # no satellites"
   ]
  },
  {
   "cell_type": "code",
   "execution_count": null,
   "metadata": {},
   "outputs": [],
   "source": [
    "#Limber Integrals: Jiang\n",
    "C_tot, dcdz_tot = hcos.C_ii(ells, redshifts, ks, Pjj_tot, dcdzflag=True)\n",
    "C_1h, dcdz_1h = hcos.C_ii(ells, redshifts, ks, Pjj_1h, dcdzflag=True)\n",
    "C_2h, dcdz_2h = hcos.C_ii(ells, redshifts, ks, Pjj_2h, dcdzflag=True)\n",
    "C_cen, dcdz_cen = hcos.C_ii(ells, redshifts, ks, Pjj_cen, dcdzflag=True)"
   ]
  },
  {
   "cell_type": "markdown",
   "metadata": {},
   "source": [
    "## Toy Data for MCMC Code"
   ]
  },
  {
   "cell_type": "code",
   "execution_count": null,
   "metadata": {},
   "outputs": [],
   "source": [
    "xdata = ells[1::int(len(ells)/20)]\n",
    "xdata"
   ]
  },
  {
   "cell_type": "code",
   "execution_count": null,
   "metadata": {},
   "outputs": [],
   "source": [
    "model = np.stack((ells, C_tot), axis=-1)\n",
    "np.save('toy_model', model)"
   ]
  },
  {
   "cell_type": "code",
   "execution_count": null,
   "metadata": {},
   "outputs": [],
   "source": [
    "sigma = 5.0e2"
   ]
  },
  {
   "cell_type": "markdown",
   "metadata": {},
   "source": [
    "Use the Lloyd Knox formula for the error estimates."
   ]
  },
  {
   "cell_type": "code",
   "execution_count": null,
   "metadata": {},
   "outputs": [],
   "source": [
    "ydata = np.random.normal(loc=C_tot[1::int(len(ells)/20)]* 3e-15, scale=sigma) "
   ]
  },
  {
   "cell_type": "code",
   "execution_count": null,
   "metadata": {},
   "outputs": [],
   "source": [
    "plt.errorbar(xdata,ydata, yerr=sigma, fmt='.')\n",
    "plt.plot(ells, C_tot * 3e-15);"
   ]
  },
  {
   "cell_type": "code",
   "execution_count": null,
   "metadata": {},
   "outputs": [],
   "source": [
    "np.sqrt(np.sum((ydata/sigma)**2))"
   ]
  },
  {
   "cell_type": "code",
   "execution_count": null,
   "metadata": {},
   "outputs": [],
   "source": [
    "cov = np.identity(len(ydata)) * sigma"
   ]
  },
  {
   "cell_type": "code",
   "execution_count": null,
   "metadata": {},
   "outputs": [],
   "source": [
    "np.save('toy_cov', cov)"
   ]
  },
  {
   "cell_type": "code",
   "execution_count": null,
   "metadata": {},
   "outputs": [],
   "source": [
    "np.save('toy_data', np.stack((xdata, ydata), axis=-1))"
   ]
  },
  {
   "cell_type": "markdown",
   "metadata": {},
   "source": [
    "## Cobaya"
   ]
  },
  {
   "cell_type": "code",
   "execution_count": null,
   "metadata": {},
   "outputs": [],
   "source": [
    "#Toy Data\n",
    "filename_cov = 'toy_cov.npy'\n",
    "filename_data = 'toy_data.npy'\n",
    "cov = np.load(filename_cov)\n",
    "data = np.load(filename_data)\n",
    "\n",
    "#Autocorrelation: 1 Freq\n",
    "autofreq = np.array([545e9], dtype=np.double)    \n",
    "\n",
    "#Cobaya Input File\n",
    "info = {\n",
    "    \"likelihood\": {\"src_class.ChiSqLikelihood\": {\"python_path\": \"~/git/hmvec/\"}} ,\n",
    "    \n",
    "    \"params\": dict([\n",
    "        #CIB Model Parameters\n",
    "        (\"alpha\", {\n",
    "            \"prior\": {\"min\": 0, \"max\": 1.3},\n",
    "            \"ref\": {\"min\": 0.2, \"max\": 0.5},\n",
    "            \"latex\": r\"\\alpha\"}),\n",
    "        (\"beta\", {\n",
    "            \"prior\": {\"min\": 0, \"max\": 2.1},\n",
    "            \"ref\": {\"min\": 1.2, \"max\": 1.7},\n",
    "            \"latex\": r\"\\beta\"}),\n",
    "        (\"gamma\", {\n",
    "            \"prior\": {\"min\": 0, \"max\": 2.7},\n",
    "            \"ref\": {\"min\": 1.2, \"max\": 1.7},\n",
    "            \"latex\": r\"\\gamma\"}),\n",
    "        (\"delta\", {\n",
    "            \"prior\": {\"min\": 2.5, \"max\": 4.6},\n",
    "            \"ref\": {\"min\": 3, \"max\": 4},\n",
    "            \"latex\": r\"\\delta\"}),\n",
    "        (\"Td_o\", {\n",
    "            \"prior\": {\"min\": 15, \"max\": 30},\n",
    "            \"ref\": {\"min\": 18, \"max\": 22},\n",
    "            \"latex\": r\"T_{d,o}\"}),\n",
    "        (\"logM_eff\", {\n",
    "            \"prior\": {\"min\": 11, \"max\": 14},\n",
    "            \"ref\": {\"min\": 11.8, \"max\": 13},\n",
    "            \"latex\": r\"\\text{log}(M_{\\text{eff}})\"}),\n",
    "        (\"L_o\", {\n",
    "            \"prior\": {\"min\": 1e-17, \"max\": 1e-13},\n",
    "            \"ref\": {\"min\": 9e-16, \"max\": 9e-15},\n",
    "            \"latex\": r\"L_o\"}),\n",
    "        \n",
    "        #Fixed Params for Theory/Likelihood\n",
    "        (\"data\", data), \n",
    "        (\"covariance\", cov),\n",
    "        (\"freq\", autofreq)\n",
    "    ]),\n",
    "\n",
    "    \"sampler\": {\n",
    "        \"mcmc\": {\"Rminus1_stop\": 0.001, \"max_tries\": 1000}\n",
    "    },\n",
    "\n",
    "    \"output\": \"toy/autocib\"\n",
    "}\n",
    "\n",
    "#Run Cobaya\n",
    "updated_info, sampler = run(info)"
   ]
  },
  {
   "cell_type": "markdown",
   "metadata": {},
   "source": [
    "## HaloGen Code"
   ]
  },
  {
   "cell_type": "code",
   "execution_count": null,
   "metadata": {},
   "outputs": [],
   "source": []
  },
  {
   "cell_type": "markdown",
   "metadata": {},
   "source": [
    "## Plots"
   ]
  },
  {
   "cell_type": "markdown",
   "metadata": {},
   "source": [
    "Let's first look at the $C$'s with the centrals and the satellites."
   ]
  },
  {
   "cell_type": "code",
   "execution_count": null,
   "metadata": {},
   "outputs": [],
   "source": [
    "nfn = np.load('nfn.npy')\n",
    "# plt.plot(masses, nfn[:,0])\n",
    "nfn.shape"
   ]
  },
  {
   "cell_type": "code",
   "execution_count": null,
   "metadata": {},
   "outputs": [],
   "source": [
    "plt.figure(figsize=(10,7))\n",
    "\n",
    "#Plot C's\n",
    "plt.loglog(ells, C_tot, label='total')\n",
    "plt.loglog(ells, C_1h, label='1 halo term')\n",
    "plt.loglog(ells, C_2h, label='2 halo term')\n",
    "\n",
    "#Gravy\n",
    "plt.xlabel(r'$\\ell$')\n",
    "plt.ylabel(rf'$C^{{ {autofreq[0]/1e9:.0f} \\; x \\; {autofreq[0]/1e9:.0f} }}_\\ell$')\n",
    "plt.legend();\n",
    "\n",
    "# plt.savefig('cii_1h2h_jiang.pdf', dpi=900, bbox_inches='tight');"
   ]
  },
  {
   "cell_type": "markdown",
   "metadata": {},
   "source": [
    "Now let's see the total $C$ without any satellites. Note the difference in the magnitude of the power with and without the satellites. The units are not established yet."
   ]
  },
  {
   "cell_type": "code",
   "execution_count": null,
   "metadata": {},
   "outputs": [],
   "source": [
    "plt.figure(figsize=(10, 7))\n",
    "\n",
    "#Plot C without Satellites\n",
    "plt.loglog(ells, C_cen)\n",
    "\n",
    "#Gravy\n",
    "plt.xlabel(r'$\\ell$')\n",
    "plt.ylabel(rf'$C^{{ {autofreq[0]/1e9:.0f} \\; x \\; {autofreq[0]/1e9:.0f} }}_\\ell$');"
   ]
  },
  {
   "cell_type": "markdown",
   "metadata": {},
   "source": [
    "Now let's look at $dC/dz$ with the satellites."
   ]
  },
  {
   "cell_type": "code",
   "execution_count": null,
   "metadata": {},
   "outputs": [],
   "source": [
    "#Plot dC/dz With Satellites\n",
    "test_ells = np.array([100, 300, 450, 500, 1000])\n",
    "plt.figure(figsize=(10,7))\n",
    "for ell in test_ells:\n",
    "    #Get index\n",
    "    i = np.where(abs(ell - ells) <= 1)[0][0]\n",
    "\n",
    "    #Spectra\n",
    "    plt.semilogy(redshifts, dcdz_tot[:, i], label=rf\"$\\ell = {ells[i]:0.0f}$\")\n",
    "    \n",
    "    print(f'L = {ell}  :  {np.sum(dcdz_tot[:5, i])/np.sum(dcdz_tot[:, i]) * 100:.3f}%')\n",
    "\n",
    "    #Gravy\n",
    "    plt.xlabel(r'$z$')\n",
    "    plt.ylabel(rf'$dC^{{ {autofreq[0]/1e9:.0f} \\;x\\; {autofreq[0]/1e9:.0f} }}_\\ell / dz$')\n",
    "    plt.legend()\n",
    "    plt.minorticks_on()\n",
    "    \n",
    "plt.savefig('dcdz_545.pdf', bbox_inches='tight', dpi=600)"
   ]
  },
  {
   "cell_type": "code",
   "execution_count": null,
   "metadata": {},
   "outputs": [],
   "source": [
    "u = hcos.uk_profiles['nfw']\n",
    "plt.plot(ks, u[1, 135, :])\n",
    "plt.xlabel('k')\n",
    "plt.ylabel('NFW');\n",
    "\n",
    "ux = np.fft.irfft(u)"
   ]
  },
  {
   "cell_type": "code",
   "execution_count": null,
   "metadata": {},
   "outputs": [],
   "source": [
    "redshifts[:10]"
   ]
  },
  {
   "cell_type": "code",
   "execution_count": null,
   "metadata": {},
   "outputs": [],
   "source": [
    "f'{masses[135]:.2e}'"
   ]
  },
  {
   "cell_type": "code",
   "execution_count": null,
   "metadata": {},
   "outputs": [],
   "source": [
    "ells[:10]"
   ]
  },
  {
   "cell_type": "code",
   "execution_count": null,
   "metadata": {},
   "outputs": [],
   "source": [
    "#Setup\n",
    "plt.figure(figsize=(10,10))\n",
    "\n",
    "#Plots\n",
    "zlow = 0\n",
    "ellow = 1\n",
    "plt.contourf(ells[ellow:50], redshifts[zlow:100], dcdz_tot[zlow:100, ellow:50])\n",
    "\n",
    "#Gravy\n",
    "plt.colorbar()\n",
    "plt.xlabel(r'$\\ell$')\n",
    "plt.ylabel('z')\n",
    "plt.title(r'Total $dC$ (with satellites)')\n",
    "# plt.xlim(10,750)\n",
    "\n",
    "#Ticks\n",
    "ax = plt.gca()\n",
    "# ax.set_yticks(np.arange(0,7))\n",
    "plt.minorticks_on()\n",
    "\n",
    "# plt.savefig('dc_jiang.pdf', dpi=900, bbox_inches='tight');"
   ]
  },
  {
   "cell_type": "code",
   "execution_count": null,
   "metadata": {},
   "outputs": [],
   "source": [
    "#Setup\n",
    "plt.figure(figsize=(10,10))\n",
    "\n",
    "#Plots\n",
    "plt.contourf(ells, redshifts, dcdz_1h)\n",
    "\n",
    "#Gravy\n",
    "plt.colorbar()\n",
    "plt.xlabel(r'$\\ell$')\n",
    "plt.ylabel('z')\n",
    "plt.title(r'1h $dC$ (with satellites)')\n",
    "\n",
    "#Ticks\n",
    "ax = plt.gca()\n",
    "ax.set_yticks(np.arange(0,7))\n",
    "plt.minorticks_on()\n",
    "\n",
    "# plt.savefig('dc_1h_jiang.pdf', dpi=900, bbox_inches='tight');"
   ]
  },
  {
   "cell_type": "code",
   "execution_count": null,
   "metadata": {},
   "outputs": [],
   "source": [
    "#Setup\n",
    "plt.figure(figsize=(10,10))\n",
    "\n",
    "#Plots\n",
    "plt.contourf(ells, redshifts, dcdz_2h)\n",
    "\n",
    "#Gravy\n",
    "plt.colorbar()\n",
    "plt.xlabel(r'$\\ell$')\n",
    "plt.ylabel('z')\n",
    "plt.title(r'2h $dC$ (with satellites)')\n",
    "\n",
    "#Ticks\n",
    "ax = plt.gca()\n",
    "ax.set_yticks(np.arange(0,7))\n",
    "plt.minorticks_on();\n",
    "\n",
    "# plt.savefig('dc_2h_jiang.pdf', dpi=900, bbox_inches='tight');"
   ]
  },
  {
   "cell_type": "markdown",
   "metadata": {},
   "source": [
    "And $dC/dz$ without the satellites."
   ]
  },
  {
   "cell_type": "code",
   "execution_count": null,
   "metadata": {},
   "outputs": [],
   "source": [
    "#Plot dC/dz With Satellites\n",
    "test_ells = np.array([100, 300, 500, 1000])\n",
    "plt.figure(figsize=(10,7))\n",
    "for ell in test_ells:\n",
    "    #Get index\n",
    "    i = np.where(abs(ell - ells) <= 1)[0][0]\n",
    "\n",
    "    #Spectra\n",
    "    plt.semilogy(redshifts, dcdz_cen[:, i], label=rf\"$\\ell = {ells[i]:0.0f}$\")\n",
    "\n",
    "    #Gravy\n",
    "    plt.xlabel(r'$z$')\n",
    "    plt.ylabel(rf'$dC^{{ {autofreq[0]:.2e} \\;x\\; {autofreq[0]:.2e} }} / dz$')\n",
    "    plt.legend()\n",
    "    plt.minorticks_on();"
   ]
  },
  {
   "cell_type": "code",
   "execution_count": null,
   "metadata": {},
   "outputs": [],
   "source": []
  }
 ],
 "metadata": {
  "kernelspec": {
   "display_name": "MyEnv",
   "language": "python",
   "name": "myenv"
  },
  "language_info": {
   "codemirror_mode": {
    "name": "ipython",
    "version": 3
   },
   "file_extension": ".py",
   "mimetype": "text/x-python",
   "name": "python",
   "nbconvert_exporter": "python",
   "pygments_lexer": "ipython3",
   "version": "3.7.7"
  }
 },
 "nbformat": 4,
 "nbformat_minor": 4
}
